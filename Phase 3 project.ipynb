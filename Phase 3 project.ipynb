{
 "cells": [
  {
   "cell_type": "markdown",
   "id": "6b795744-79bb-4907-915d-6198f43d835b",
   "metadata": {},
   "source": [
    "# 1. BUSINESS UNDERSTANDING"
   ]
  },
  {
   "cell_type": "markdown",
   "id": "bf7361d9-e0d8-4a86-b180-4ceb75ca947f",
   "metadata": {},
   "source": [
    "## 1.1 BUSINESS OVERVIEW"
   ]
  },
  {
   "cell_type": "markdown",
   "id": "48da5d85-d3da-4b23-95b2-2dfef177cf40",
   "metadata": {},
   "source": [
    "SyriaTel is a phone and internet company. Its income mainly comes from customers who keep paying for their service every month. Getting new customers is expensive, so it is usually cheaper and more profitable to keep the customers they already have."
   ]
  },
  {
   "cell_type": "markdown",
   "id": "fb1b00c0-6c21-4259-9d3b-fc180374a574",
   "metadata": {},
   "source": [
    "## 1.2 PROBLEM STATEMENT"
   ]
  },
  {
   "cell_type": "markdown",
   "id": "ecb81a01-215f-4b0f-83c5-b48d37e0e0e2",
   "metadata": {},
   "source": [
    "SyriaTel loses some customers every month when they move to other providers. This loss, reduces the revenue and forces the company to spend more money on advertising and promotions to replace lost customers. Attracting new users is important, but it costs much more than keeping existing ones. Without knowing which customers are likely to leave, SyriaTel cannot act early to keep them. A clear way to predict company losses is need for the company to take action, reduce losses, and focus more on growing its customer base."
   ]
  },
  {
   "cell_type": "markdown",
   "id": "2446dc3f-b0c2-4747-9b92-b087e7c11e0d",
   "metadata": {},
   "source": [
    "## 1.3 BUSINESS OBJECTIVES"
   ]
  },
  {
   "cell_type": "markdown",
   "id": "7002dd65-4020-4533-a888-8058e1c7edd9",
   "metadata": {},
   "source": [
    "### 1.3.1 MAIN OBJECTIVES"
   ]
  },
  {
   "cell_type": "markdown",
   "id": "010c9727-d229-48ef-85c8-b177560c703c",
   "metadata": {},
   "source": [
    "Find out which SyriaTel customers might leave soon and to Build a simple model to predict this which will help the company keep those customers and save money."
   ]
  },
  {
   "cell_type": "markdown",
   "id": "273b19ef-d830-4cda-85a6-c413b6363cde",
   "metadata": {},
   "source": [
    "### 1.3.2 SPECIFIC OBJECTIVES"
   ]
  },
  {
   "cell_type": "markdown",
   "id": "03ecff80-9568-48ed-a9a8-5e7b6704816c",
   "metadata": {},
   "source": [
    "1. To identify patterns in customer data that indicate a higher chance of churn.\n",
    "\n",
    "2. To determine the main factors that cause customers to leave SyriaTel.\n",
    "\n",
    "3. To help the company reduce costs of acquiring new customers by keeping existing ones longer.\n",
    "\n",
    "4. To support business growth by improving customer satisfaction and loyalty.\n",
    "\n",
    "5. To give SyriaTel useful insights for creating retention strategies such as offers, discounts, or improved customer service.\n"
   ]
  },
  {
   "cell_type": "markdown",
   "id": "99a64836-8cb0-4583-a8be-121cf923b12d",
   "metadata": {},
   "source": [
    "### 1.3.3 RESEARCH QUESTIONS"
   ]
  },
  {
   "cell_type": "markdown",
   "id": "77d37b8c-8b6e-471a-9fe1-4b2e188c17c7",
   "metadata": {},
   "source": [
    "1. Which customers are most likely to leave?\n",
    "\n",
    "2. Can we predict churn before it happens?\n",
    "\n",
    "3. What actions can SyriaTel take to keep them?\n",
    "\n",
    "4. How does lower churn help revenue grow?"
   ]
  },
  {
   "cell_type": "markdown",
   "id": "52ae138a-39c2-4faa-ba68-ca6c84d78175",
   "metadata": {},
   "source": [
    "## 1.4 SUCCESS CRITERIA"
   ]
  },
  {
   "cell_type": "markdown",
   "id": "888f5ee3-37ce-4d52-b70f-8c8090b9a839",
   "metadata": {},
   "source": [
    "To sucesfully build a model that predicts churn reliablywe need to identify the main reasons why customers leave which will help SyriaTel reduce churn and save revenue."
   ]
  },
  {
   "cell_type": "markdown",
   "id": "bea14cba-aa12-4195-9ce9-881d929aec91",
   "metadata": {},
   "source": [
    "# 2.0 DATA UNDERSTANDING\n"
   ]
  },
  {
   "cell_type": "markdown",
   "id": "59693138-e14c-472c-9230-b0392afe103b",
   "metadata": {},
   "source": [
    "- The data was gotten from Kaggle. (https://www.kaggle.com/datasets/becksddf/churn-in-telecoms-dataset\n",
    "- It contains 21 columns and 3333 rows.\n",
    "- The dataset consists of float, integer, boolean and object data types.\n",
    "- The dataset contains information on customer usage behavior, account details, service plans, and whether they churned or not.\n",
    "- The column names are:\n",
    "   1. **State**                  \r\n",
    "   2. **Account length**                        \r\n",
    "   3. **Area code**      \r\n",
    "   4. **Phone number**         \r\n",
    "   5. **International plan**     \r\n",
    "   6. **Voice mail plan**       \r\n",
    "   7. **Number vmail messages**   \r\n",
    "   8. **Total day minutes**      \r\n",
    "   9. **Total day calls**        \r\n",
    "   10. **Total day charge**     \r\n",
    "   11. **Total eve minutes**\r\n",
    "   12. **Total eve  calls**\r\n",
    "   13. **Total eve charge**      \r\n",
    "   14. **Total night minutes**     \r\n",
    "   15. **Total night calls**   \r\n",
    "   16. **Total night charge**     \r\n",
    "   17. **Total intl minutes**   \r\n",
    "   18. **Total intl calls**    \r\n",
    "   19. **Total intl charge**     \r\n",
    "   20. **Customer service calls**\r\n",
    "   21. **Churn**           "
   ]
  },
  {
   "cell_type": "markdown",
   "id": "572dad24-5cad-4488-9f5c-89a9cf16f255",
   "metadata": {},
   "source": [
    "### Summary Statistics"
   ]
  },
  {
   "cell_type": "code",
   "execution_count": 40,
   "id": "a724aad6-2b8d-4925-8f6d-31ee9ba94d4a",
   "metadata": {},
   "outputs": [],
   "source": [
    "\n",
    "import pandas as pd\n",
    "import numpy as np \n",
    "import matplotlib.pyplot as plt\n",
    "from sklearn.preprocessing import LabelEncoder\n",
    "from sklearn.model_selection import train_test_split\n",
    "from sklearn.linear_model import LogisticRegression\n",
    "from sklearn.tree import DecisionTreeClassifier, plot_tree\n",
    "from sklearn.preprocessing import StandardScaler\n",
    "from sklearn.metrics import accuracy_score, confusion_matrix, classification_report\n"
   ]
  },
  {
   "cell_type": "code",
   "execution_count": 9,
   "id": "48d5ec52-5293-4929-9a5f-f792d3f24cfc",
   "metadata": {
    "scrolled": true
   },
   "outputs": [
    {
     "data": {
      "text/html": [
       "<div>\n",
       "<style scoped>\n",
       "    .dataframe tbody tr th:only-of-type {\n",
       "        vertical-align: middle;\n",
       "    }\n",
       "\n",
       "    .dataframe tbody tr th {\n",
       "        vertical-align: top;\n",
       "    }\n",
       "\n",
       "    .dataframe thead th {\n",
       "        text-align: right;\n",
       "    }\n",
       "</style>\n",
       "<table border=\"1\" class=\"dataframe\">\n",
       "  <thead>\n",
       "    <tr style=\"text-align: right;\">\n",
       "      <th></th>\n",
       "      <th>state</th>\n",
       "      <th>account length</th>\n",
       "      <th>area code</th>\n",
       "      <th>phone number</th>\n",
       "      <th>international plan</th>\n",
       "      <th>voice mail plan</th>\n",
       "      <th>number vmail messages</th>\n",
       "      <th>total day minutes</th>\n",
       "      <th>total day calls</th>\n",
       "      <th>total day charge</th>\n",
       "      <th>...</th>\n",
       "      <th>total eve calls</th>\n",
       "      <th>total eve charge</th>\n",
       "      <th>total night minutes</th>\n",
       "      <th>total night calls</th>\n",
       "      <th>total night charge</th>\n",
       "      <th>total intl minutes</th>\n",
       "      <th>total intl calls</th>\n",
       "      <th>total intl charge</th>\n",
       "      <th>customer service calls</th>\n",
       "      <th>churn</th>\n",
       "    </tr>\n",
       "  </thead>\n",
       "  <tbody>\n",
       "    <tr>\n",
       "      <th>0</th>\n",
       "      <td>KS</td>\n",
       "      <td>128</td>\n",
       "      <td>415</td>\n",
       "      <td>382-4657</td>\n",
       "      <td>no</td>\n",
       "      <td>yes</td>\n",
       "      <td>25</td>\n",
       "      <td>265.1</td>\n",
       "      <td>110</td>\n",
       "      <td>45.07</td>\n",
       "      <td>...</td>\n",
       "      <td>99</td>\n",
       "      <td>16.78</td>\n",
       "      <td>244.7</td>\n",
       "      <td>91</td>\n",
       "      <td>11.01</td>\n",
       "      <td>10.0</td>\n",
       "      <td>3</td>\n",
       "      <td>2.70</td>\n",
       "      <td>1</td>\n",
       "      <td>False</td>\n",
       "    </tr>\n",
       "    <tr>\n",
       "      <th>1</th>\n",
       "      <td>OH</td>\n",
       "      <td>107</td>\n",
       "      <td>415</td>\n",
       "      <td>371-7191</td>\n",
       "      <td>no</td>\n",
       "      <td>yes</td>\n",
       "      <td>26</td>\n",
       "      <td>161.6</td>\n",
       "      <td>123</td>\n",
       "      <td>27.47</td>\n",
       "      <td>...</td>\n",
       "      <td>103</td>\n",
       "      <td>16.62</td>\n",
       "      <td>254.4</td>\n",
       "      <td>103</td>\n",
       "      <td>11.45</td>\n",
       "      <td>13.7</td>\n",
       "      <td>3</td>\n",
       "      <td>3.70</td>\n",
       "      <td>1</td>\n",
       "      <td>False</td>\n",
       "    </tr>\n",
       "    <tr>\n",
       "      <th>2</th>\n",
       "      <td>NJ</td>\n",
       "      <td>137</td>\n",
       "      <td>415</td>\n",
       "      <td>358-1921</td>\n",
       "      <td>no</td>\n",
       "      <td>no</td>\n",
       "      <td>0</td>\n",
       "      <td>243.4</td>\n",
       "      <td>114</td>\n",
       "      <td>41.38</td>\n",
       "      <td>...</td>\n",
       "      <td>110</td>\n",
       "      <td>10.30</td>\n",
       "      <td>162.6</td>\n",
       "      <td>104</td>\n",
       "      <td>7.32</td>\n",
       "      <td>12.2</td>\n",
       "      <td>5</td>\n",
       "      <td>3.29</td>\n",
       "      <td>0</td>\n",
       "      <td>False</td>\n",
       "    </tr>\n",
       "    <tr>\n",
       "      <th>3</th>\n",
       "      <td>OH</td>\n",
       "      <td>84</td>\n",
       "      <td>408</td>\n",
       "      <td>375-9999</td>\n",
       "      <td>yes</td>\n",
       "      <td>no</td>\n",
       "      <td>0</td>\n",
       "      <td>299.4</td>\n",
       "      <td>71</td>\n",
       "      <td>50.90</td>\n",
       "      <td>...</td>\n",
       "      <td>88</td>\n",
       "      <td>5.26</td>\n",
       "      <td>196.9</td>\n",
       "      <td>89</td>\n",
       "      <td>8.86</td>\n",
       "      <td>6.6</td>\n",
       "      <td>7</td>\n",
       "      <td>1.78</td>\n",
       "      <td>2</td>\n",
       "      <td>False</td>\n",
       "    </tr>\n",
       "    <tr>\n",
       "      <th>4</th>\n",
       "      <td>OK</td>\n",
       "      <td>75</td>\n",
       "      <td>415</td>\n",
       "      <td>330-6626</td>\n",
       "      <td>yes</td>\n",
       "      <td>no</td>\n",
       "      <td>0</td>\n",
       "      <td>166.7</td>\n",
       "      <td>113</td>\n",
       "      <td>28.34</td>\n",
       "      <td>...</td>\n",
       "      <td>122</td>\n",
       "      <td>12.61</td>\n",
       "      <td>186.9</td>\n",
       "      <td>121</td>\n",
       "      <td>8.41</td>\n",
       "      <td>10.1</td>\n",
       "      <td>3</td>\n",
       "      <td>2.73</td>\n",
       "      <td>3</td>\n",
       "      <td>False</td>\n",
       "    </tr>\n",
       "    <tr>\n",
       "      <th>5</th>\n",
       "      <td>AL</td>\n",
       "      <td>118</td>\n",
       "      <td>510</td>\n",
       "      <td>391-8027</td>\n",
       "      <td>yes</td>\n",
       "      <td>no</td>\n",
       "      <td>0</td>\n",
       "      <td>223.4</td>\n",
       "      <td>98</td>\n",
       "      <td>37.98</td>\n",
       "      <td>...</td>\n",
       "      <td>101</td>\n",
       "      <td>18.75</td>\n",
       "      <td>203.9</td>\n",
       "      <td>118</td>\n",
       "      <td>9.18</td>\n",
       "      <td>6.3</td>\n",
       "      <td>6</td>\n",
       "      <td>1.70</td>\n",
       "      <td>0</td>\n",
       "      <td>False</td>\n",
       "    </tr>\n",
       "    <tr>\n",
       "      <th>6</th>\n",
       "      <td>MA</td>\n",
       "      <td>121</td>\n",
       "      <td>510</td>\n",
       "      <td>355-9993</td>\n",
       "      <td>no</td>\n",
       "      <td>yes</td>\n",
       "      <td>24</td>\n",
       "      <td>218.2</td>\n",
       "      <td>88</td>\n",
       "      <td>37.09</td>\n",
       "      <td>...</td>\n",
       "      <td>108</td>\n",
       "      <td>29.62</td>\n",
       "      <td>212.6</td>\n",
       "      <td>118</td>\n",
       "      <td>9.57</td>\n",
       "      <td>7.5</td>\n",
       "      <td>7</td>\n",
       "      <td>2.03</td>\n",
       "      <td>3</td>\n",
       "      <td>False</td>\n",
       "    </tr>\n",
       "    <tr>\n",
       "      <th>7</th>\n",
       "      <td>MO</td>\n",
       "      <td>147</td>\n",
       "      <td>415</td>\n",
       "      <td>329-9001</td>\n",
       "      <td>yes</td>\n",
       "      <td>no</td>\n",
       "      <td>0</td>\n",
       "      <td>157.0</td>\n",
       "      <td>79</td>\n",
       "      <td>26.69</td>\n",
       "      <td>...</td>\n",
       "      <td>94</td>\n",
       "      <td>8.76</td>\n",
       "      <td>211.8</td>\n",
       "      <td>96</td>\n",
       "      <td>9.53</td>\n",
       "      <td>7.1</td>\n",
       "      <td>6</td>\n",
       "      <td>1.92</td>\n",
       "      <td>0</td>\n",
       "      <td>False</td>\n",
       "    </tr>\n",
       "    <tr>\n",
       "      <th>8</th>\n",
       "      <td>LA</td>\n",
       "      <td>117</td>\n",
       "      <td>408</td>\n",
       "      <td>335-4719</td>\n",
       "      <td>no</td>\n",
       "      <td>no</td>\n",
       "      <td>0</td>\n",
       "      <td>184.5</td>\n",
       "      <td>97</td>\n",
       "      <td>31.37</td>\n",
       "      <td>...</td>\n",
       "      <td>80</td>\n",
       "      <td>29.89</td>\n",
       "      <td>215.8</td>\n",
       "      <td>90</td>\n",
       "      <td>9.71</td>\n",
       "      <td>8.7</td>\n",
       "      <td>4</td>\n",
       "      <td>2.35</td>\n",
       "      <td>1</td>\n",
       "      <td>False</td>\n",
       "    </tr>\n",
       "    <tr>\n",
       "      <th>9</th>\n",
       "      <td>WV</td>\n",
       "      <td>141</td>\n",
       "      <td>415</td>\n",
       "      <td>330-8173</td>\n",
       "      <td>yes</td>\n",
       "      <td>yes</td>\n",
       "      <td>37</td>\n",
       "      <td>258.6</td>\n",
       "      <td>84</td>\n",
       "      <td>43.96</td>\n",
       "      <td>...</td>\n",
       "      <td>111</td>\n",
       "      <td>18.87</td>\n",
       "      <td>326.4</td>\n",
       "      <td>97</td>\n",
       "      <td>14.69</td>\n",
       "      <td>11.2</td>\n",
       "      <td>5</td>\n",
       "      <td>3.02</td>\n",
       "      <td>0</td>\n",
       "      <td>False</td>\n",
       "    </tr>\n",
       "    <tr>\n",
       "      <th>10</th>\n",
       "      <td>IN</td>\n",
       "      <td>65</td>\n",
       "      <td>415</td>\n",
       "      <td>329-6603</td>\n",
       "      <td>no</td>\n",
       "      <td>no</td>\n",
       "      <td>0</td>\n",
       "      <td>129.1</td>\n",
       "      <td>137</td>\n",
       "      <td>21.95</td>\n",
       "      <td>...</td>\n",
       "      <td>83</td>\n",
       "      <td>19.42</td>\n",
       "      <td>208.8</td>\n",
       "      <td>111</td>\n",
       "      <td>9.40</td>\n",
       "      <td>12.7</td>\n",
       "      <td>6</td>\n",
       "      <td>3.43</td>\n",
       "      <td>4</td>\n",
       "      <td>True</td>\n",
       "    </tr>\n",
       "    <tr>\n",
       "      <th>11</th>\n",
       "      <td>RI</td>\n",
       "      <td>74</td>\n",
       "      <td>415</td>\n",
       "      <td>344-9403</td>\n",
       "      <td>no</td>\n",
       "      <td>no</td>\n",
       "      <td>0</td>\n",
       "      <td>187.7</td>\n",
       "      <td>127</td>\n",
       "      <td>31.91</td>\n",
       "      <td>...</td>\n",
       "      <td>148</td>\n",
       "      <td>13.89</td>\n",
       "      <td>196.0</td>\n",
       "      <td>94</td>\n",
       "      <td>8.82</td>\n",
       "      <td>9.1</td>\n",
       "      <td>5</td>\n",
       "      <td>2.46</td>\n",
       "      <td>0</td>\n",
       "      <td>False</td>\n",
       "    </tr>\n",
       "    <tr>\n",
       "      <th>12</th>\n",
       "      <td>IA</td>\n",
       "      <td>168</td>\n",
       "      <td>408</td>\n",
       "      <td>363-1107</td>\n",
       "      <td>no</td>\n",
       "      <td>no</td>\n",
       "      <td>0</td>\n",
       "      <td>128.8</td>\n",
       "      <td>96</td>\n",
       "      <td>21.90</td>\n",
       "      <td>...</td>\n",
       "      <td>71</td>\n",
       "      <td>8.92</td>\n",
       "      <td>141.1</td>\n",
       "      <td>128</td>\n",
       "      <td>6.35</td>\n",
       "      <td>11.2</td>\n",
       "      <td>2</td>\n",
       "      <td>3.02</td>\n",
       "      <td>1</td>\n",
       "      <td>False</td>\n",
       "    </tr>\n",
       "    <tr>\n",
       "      <th>13</th>\n",
       "      <td>MT</td>\n",
       "      <td>95</td>\n",
       "      <td>510</td>\n",
       "      <td>394-8006</td>\n",
       "      <td>no</td>\n",
       "      <td>no</td>\n",
       "      <td>0</td>\n",
       "      <td>156.6</td>\n",
       "      <td>88</td>\n",
       "      <td>26.62</td>\n",
       "      <td>...</td>\n",
       "      <td>75</td>\n",
       "      <td>21.05</td>\n",
       "      <td>192.3</td>\n",
       "      <td>115</td>\n",
       "      <td>8.65</td>\n",
       "      <td>12.3</td>\n",
       "      <td>5</td>\n",
       "      <td>3.32</td>\n",
       "      <td>3</td>\n",
       "      <td>False</td>\n",
       "    </tr>\n",
       "    <tr>\n",
       "      <th>14</th>\n",
       "      <td>IA</td>\n",
       "      <td>62</td>\n",
       "      <td>415</td>\n",
       "      <td>366-9238</td>\n",
       "      <td>no</td>\n",
       "      <td>no</td>\n",
       "      <td>0</td>\n",
       "      <td>120.7</td>\n",
       "      <td>70</td>\n",
       "      <td>20.52</td>\n",
       "      <td>...</td>\n",
       "      <td>76</td>\n",
       "      <td>26.11</td>\n",
       "      <td>203.0</td>\n",
       "      <td>99</td>\n",
       "      <td>9.14</td>\n",
       "      <td>13.1</td>\n",
       "      <td>6</td>\n",
       "      <td>3.54</td>\n",
       "      <td>4</td>\n",
       "      <td>False</td>\n",
       "    </tr>\n",
       "    <tr>\n",
       "      <th>15</th>\n",
       "      <td>NY</td>\n",
       "      <td>161</td>\n",
       "      <td>415</td>\n",
       "      <td>351-7269</td>\n",
       "      <td>no</td>\n",
       "      <td>no</td>\n",
       "      <td>0</td>\n",
       "      <td>332.9</td>\n",
       "      <td>67</td>\n",
       "      <td>56.59</td>\n",
       "      <td>...</td>\n",
       "      <td>97</td>\n",
       "      <td>27.01</td>\n",
       "      <td>160.6</td>\n",
       "      <td>128</td>\n",
       "      <td>7.23</td>\n",
       "      <td>5.4</td>\n",
       "      <td>9</td>\n",
       "      <td>1.46</td>\n",
       "      <td>4</td>\n",
       "      <td>True</td>\n",
       "    </tr>\n",
       "    <tr>\n",
       "      <th>16</th>\n",
       "      <td>ID</td>\n",
       "      <td>85</td>\n",
       "      <td>408</td>\n",
       "      <td>350-8884</td>\n",
       "      <td>no</td>\n",
       "      <td>yes</td>\n",
       "      <td>27</td>\n",
       "      <td>196.4</td>\n",
       "      <td>139</td>\n",
       "      <td>33.39</td>\n",
       "      <td>...</td>\n",
       "      <td>90</td>\n",
       "      <td>23.88</td>\n",
       "      <td>89.3</td>\n",
       "      <td>75</td>\n",
       "      <td>4.02</td>\n",
       "      <td>13.8</td>\n",
       "      <td>4</td>\n",
       "      <td>3.73</td>\n",
       "      <td>1</td>\n",
       "      <td>False</td>\n",
       "    </tr>\n",
       "    <tr>\n",
       "      <th>17</th>\n",
       "      <td>VT</td>\n",
       "      <td>93</td>\n",
       "      <td>510</td>\n",
       "      <td>386-2923</td>\n",
       "      <td>no</td>\n",
       "      <td>no</td>\n",
       "      <td>0</td>\n",
       "      <td>190.7</td>\n",
       "      <td>114</td>\n",
       "      <td>32.42</td>\n",
       "      <td>...</td>\n",
       "      <td>111</td>\n",
       "      <td>18.55</td>\n",
       "      <td>129.6</td>\n",
       "      <td>121</td>\n",
       "      <td>5.83</td>\n",
       "      <td>8.1</td>\n",
       "      <td>3</td>\n",
       "      <td>2.19</td>\n",
       "      <td>3</td>\n",
       "      <td>False</td>\n",
       "    </tr>\n",
       "    <tr>\n",
       "      <th>18</th>\n",
       "      <td>VA</td>\n",
       "      <td>76</td>\n",
       "      <td>510</td>\n",
       "      <td>356-2992</td>\n",
       "      <td>no</td>\n",
       "      <td>yes</td>\n",
       "      <td>33</td>\n",
       "      <td>189.7</td>\n",
       "      <td>66</td>\n",
       "      <td>32.25</td>\n",
       "      <td>...</td>\n",
       "      <td>65</td>\n",
       "      <td>18.09</td>\n",
       "      <td>165.7</td>\n",
       "      <td>108</td>\n",
       "      <td>7.46</td>\n",
       "      <td>10.0</td>\n",
       "      <td>5</td>\n",
       "      <td>2.70</td>\n",
       "      <td>1</td>\n",
       "      <td>False</td>\n",
       "    </tr>\n",
       "    <tr>\n",
       "      <th>19</th>\n",
       "      <td>TX</td>\n",
       "      <td>73</td>\n",
       "      <td>415</td>\n",
       "      <td>373-2782</td>\n",
       "      <td>no</td>\n",
       "      <td>no</td>\n",
       "      <td>0</td>\n",
       "      <td>224.4</td>\n",
       "      <td>90</td>\n",
       "      <td>38.15</td>\n",
       "      <td>...</td>\n",
       "      <td>88</td>\n",
       "      <td>13.56</td>\n",
       "      <td>192.8</td>\n",
       "      <td>74</td>\n",
       "      <td>8.68</td>\n",
       "      <td>13.0</td>\n",
       "      <td>2</td>\n",
       "      <td>3.51</td>\n",
       "      <td>1</td>\n",
       "      <td>False</td>\n",
       "    </tr>\n",
       "  </tbody>\n",
       "</table>\n",
       "<p>20 rows × 21 columns</p>\n",
       "</div>"
      ],
      "text/plain": [
       "   state  account length  area code phone number international plan  \\\n",
       "0     KS             128        415     382-4657                 no   \n",
       "1     OH             107        415     371-7191                 no   \n",
       "2     NJ             137        415     358-1921                 no   \n",
       "3     OH              84        408     375-9999                yes   \n",
       "4     OK              75        415     330-6626                yes   \n",
       "5     AL             118        510     391-8027                yes   \n",
       "6     MA             121        510     355-9993                 no   \n",
       "7     MO             147        415     329-9001                yes   \n",
       "8     LA             117        408     335-4719                 no   \n",
       "9     WV             141        415     330-8173                yes   \n",
       "10    IN              65        415     329-6603                 no   \n",
       "11    RI              74        415     344-9403                 no   \n",
       "12    IA             168        408     363-1107                 no   \n",
       "13    MT              95        510     394-8006                 no   \n",
       "14    IA              62        415     366-9238                 no   \n",
       "15    NY             161        415     351-7269                 no   \n",
       "16    ID              85        408     350-8884                 no   \n",
       "17    VT              93        510     386-2923                 no   \n",
       "18    VA              76        510     356-2992                 no   \n",
       "19    TX              73        415     373-2782                 no   \n",
       "\n",
       "   voice mail plan  number vmail messages  total day minutes  total day calls  \\\n",
       "0              yes                     25              265.1              110   \n",
       "1              yes                     26              161.6              123   \n",
       "2               no                      0              243.4              114   \n",
       "3               no                      0              299.4               71   \n",
       "4               no                      0              166.7              113   \n",
       "5               no                      0              223.4               98   \n",
       "6              yes                     24              218.2               88   \n",
       "7               no                      0              157.0               79   \n",
       "8               no                      0              184.5               97   \n",
       "9              yes                     37              258.6               84   \n",
       "10              no                      0              129.1              137   \n",
       "11              no                      0              187.7              127   \n",
       "12              no                      0              128.8               96   \n",
       "13              no                      0              156.6               88   \n",
       "14              no                      0              120.7               70   \n",
       "15              no                      0              332.9               67   \n",
       "16             yes                     27              196.4              139   \n",
       "17              no                      0              190.7              114   \n",
       "18             yes                     33              189.7               66   \n",
       "19              no                      0              224.4               90   \n",
       "\n",
       "    total day charge  ...  total eve calls  total eve charge  \\\n",
       "0              45.07  ...               99             16.78   \n",
       "1              27.47  ...              103             16.62   \n",
       "2              41.38  ...              110             10.30   \n",
       "3              50.90  ...               88              5.26   \n",
       "4              28.34  ...              122             12.61   \n",
       "5              37.98  ...              101             18.75   \n",
       "6              37.09  ...              108             29.62   \n",
       "7              26.69  ...               94              8.76   \n",
       "8              31.37  ...               80             29.89   \n",
       "9              43.96  ...              111             18.87   \n",
       "10             21.95  ...               83             19.42   \n",
       "11             31.91  ...              148             13.89   \n",
       "12             21.90  ...               71              8.92   \n",
       "13             26.62  ...               75             21.05   \n",
       "14             20.52  ...               76             26.11   \n",
       "15             56.59  ...               97             27.01   \n",
       "16             33.39  ...               90             23.88   \n",
       "17             32.42  ...              111             18.55   \n",
       "18             32.25  ...               65             18.09   \n",
       "19             38.15  ...               88             13.56   \n",
       "\n",
       "    total night minutes  total night calls  total night charge  \\\n",
       "0                 244.7                 91               11.01   \n",
       "1                 254.4                103               11.45   \n",
       "2                 162.6                104                7.32   \n",
       "3                 196.9                 89                8.86   \n",
       "4                 186.9                121                8.41   \n",
       "5                 203.9                118                9.18   \n",
       "6                 212.6                118                9.57   \n",
       "7                 211.8                 96                9.53   \n",
       "8                 215.8                 90                9.71   \n",
       "9                 326.4                 97               14.69   \n",
       "10                208.8                111                9.40   \n",
       "11                196.0                 94                8.82   \n",
       "12                141.1                128                6.35   \n",
       "13                192.3                115                8.65   \n",
       "14                203.0                 99                9.14   \n",
       "15                160.6                128                7.23   \n",
       "16                 89.3                 75                4.02   \n",
       "17                129.6                121                5.83   \n",
       "18                165.7                108                7.46   \n",
       "19                192.8                 74                8.68   \n",
       "\n",
       "    total intl minutes  total intl calls  total intl charge  \\\n",
       "0                 10.0                 3               2.70   \n",
       "1                 13.7                 3               3.70   \n",
       "2                 12.2                 5               3.29   \n",
       "3                  6.6                 7               1.78   \n",
       "4                 10.1                 3               2.73   \n",
       "5                  6.3                 6               1.70   \n",
       "6                  7.5                 7               2.03   \n",
       "7                  7.1                 6               1.92   \n",
       "8                  8.7                 4               2.35   \n",
       "9                 11.2                 5               3.02   \n",
       "10                12.7                 6               3.43   \n",
       "11                 9.1                 5               2.46   \n",
       "12                11.2                 2               3.02   \n",
       "13                12.3                 5               3.32   \n",
       "14                13.1                 6               3.54   \n",
       "15                 5.4                 9               1.46   \n",
       "16                13.8                 4               3.73   \n",
       "17                 8.1                 3               2.19   \n",
       "18                10.0                 5               2.70   \n",
       "19                13.0                 2               3.51   \n",
       "\n",
       "    customer service calls  churn  \n",
       "0                        1  False  \n",
       "1                        1  False  \n",
       "2                        0  False  \n",
       "3                        2  False  \n",
       "4                        3  False  \n",
       "5                        0  False  \n",
       "6                        3  False  \n",
       "7                        0  False  \n",
       "8                        1  False  \n",
       "9                        0  False  \n",
       "10                       4   True  \n",
       "11                       0  False  \n",
       "12                       1  False  \n",
       "13                       3  False  \n",
       "14                       4  False  \n",
       "15                       4   True  \n",
       "16                       1  False  \n",
       "17                       3  False  \n",
       "18                       1  False  \n",
       "19                       1  False  \n",
       "\n",
       "[20 rows x 21 columns]"
      ]
     },
     "execution_count": 9,
     "metadata": {},
     "output_type": "execute_result"
    }
   ],
   "source": [
    "#Load dataset\n",
    "df=pd.read_csv(\"bigml_59c28831336c6604c800002a.csv\")\n",
    "df.head(20)"
   ]
  },
  {
   "cell_type": "code",
   "execution_count": 10,
   "id": "1665e194-329d-4479-8cb8-16c068ee11e0",
   "metadata": {
    "scrolled": true
   },
   "outputs": [
    {
     "name": "stdout",
     "output_type": "stream",
     "text": [
      "<class 'pandas.core.frame.DataFrame'>\n",
      "RangeIndex: 3333 entries, 0 to 3332\n",
      "Data columns (total 21 columns):\n",
      " #   Column                  Non-Null Count  Dtype  \n",
      "---  ------                  --------------  -----  \n",
      " 0   state                   3333 non-null   object \n",
      " 1   account length          3333 non-null   int64  \n",
      " 2   area code               3333 non-null   int64  \n",
      " 3   phone number            3333 non-null   object \n",
      " 4   international plan      3333 non-null   object \n",
      " 5   voice mail plan         3333 non-null   object \n",
      " 6   number vmail messages   3333 non-null   int64  \n",
      " 7   total day minutes       3333 non-null   float64\n",
      " 8   total day calls         3333 non-null   int64  \n",
      " 9   total day charge        3333 non-null   float64\n",
      " 10  total eve minutes       3333 non-null   float64\n",
      " 11  total eve calls         3333 non-null   int64  \n",
      " 12  total eve charge        3333 non-null   float64\n",
      " 13  total night minutes     3333 non-null   float64\n",
      " 14  total night calls       3333 non-null   int64  \n",
      " 15  total night charge      3333 non-null   float64\n",
      " 16  total intl minutes      3333 non-null   float64\n",
      " 17  total intl calls        3333 non-null   int64  \n",
      " 18  total intl charge       3333 non-null   float64\n",
      " 19  customer service calls  3333 non-null   int64  \n",
      " 20  churn                   3333 non-null   bool   \n",
      "dtypes: bool(1), float64(8), int64(8), object(4)\n",
      "memory usage: 524.2+ KB\n"
     ]
    }
   ],
   "source": [
    "#general info of the data\n",
    "df.info()"
   ]
  },
  {
   "cell_type": "code",
   "execution_count": 11,
   "id": "3cc4ec3a-8976-4608-b236-8dc860d4c272",
   "metadata": {},
   "outputs": [
    {
     "name": "stdout",
     "output_type": "stream",
     "text": [
      "Index(['state', 'account length', 'area code', 'phone number',\n",
      "       'international plan', 'voice mail plan', 'number vmail messages',\n",
      "       'total day minutes', 'total day calls', 'total day charge',\n",
      "       'total eve minutes', 'total eve calls', 'total eve charge',\n",
      "       'total night minutes', 'total night calls', 'total night charge',\n",
      "       'total intl minutes', 'total intl calls', 'total intl charge',\n",
      "       'customer service calls', 'churn'],\n",
      "      dtype='object')\n"
     ]
    }
   ],
   "source": [
    "print(df.columns)"
   ]
  },
  {
   "cell_type": "code",
   "execution_count": 12,
   "id": "8012197c-dcb5-48a6-a0ee-5c82b51e3914",
   "metadata": {
    "scrolled": true
   },
   "outputs": [
    {
     "name": "stdout",
     "output_type": "stream",
     "text": [
      "       account length    area code  number vmail messages  total day minutes  \\\n",
      "count     3333.000000  3333.000000            3333.000000        3333.000000   \n",
      "mean       101.064806   437.182418               8.099010         179.775098   \n",
      "std         39.822106    42.371290              13.688365          54.467389   \n",
      "min          1.000000   408.000000               0.000000           0.000000   \n",
      "25%         74.000000   408.000000               0.000000         143.700000   \n",
      "50%        101.000000   415.000000               0.000000         179.400000   \n",
      "75%        127.000000   510.000000              20.000000         216.400000   \n",
      "max        243.000000   510.000000              51.000000         350.800000   \n",
      "\n",
      "       total day calls  total day charge  total eve minutes  total eve calls  \\\n",
      "count      3333.000000       3333.000000        3333.000000      3333.000000   \n",
      "mean        100.435644         30.562307         200.980348       100.114311   \n",
      "std          20.069084          9.259435          50.713844        19.922625   \n",
      "min           0.000000          0.000000           0.000000         0.000000   \n",
      "25%          87.000000         24.430000         166.600000        87.000000   \n",
      "50%         101.000000         30.500000         201.400000       100.000000   \n",
      "75%         114.000000         36.790000         235.300000       114.000000   \n",
      "max         165.000000         59.640000         363.700000       170.000000   \n",
      "\n",
      "       total eve charge  total night minutes  total night calls  \\\n",
      "count       3333.000000          3333.000000        3333.000000   \n",
      "mean          17.083540           200.872037         100.107711   \n",
      "std            4.310668            50.573847          19.568609   \n",
      "min            0.000000            23.200000          33.000000   \n",
      "25%           14.160000           167.000000          87.000000   \n",
      "50%           17.120000           201.200000         100.000000   \n",
      "75%           20.000000           235.300000         113.000000   \n",
      "max           30.910000           395.000000         175.000000   \n",
      "\n",
      "       total night charge  total intl minutes  total intl calls  \\\n",
      "count         3333.000000         3333.000000       3333.000000   \n",
      "mean             9.039325           10.237294          4.479448   \n",
      "std              2.275873            2.791840          2.461214   \n",
      "min              1.040000            0.000000          0.000000   \n",
      "25%              7.520000            8.500000          3.000000   \n",
      "50%              9.050000           10.300000          4.000000   \n",
      "75%             10.590000           12.100000          6.000000   \n",
      "max             17.770000           20.000000         20.000000   \n",
      "\n",
      "       total intl charge  customer service calls  \n",
      "count        3333.000000             3333.000000  \n",
      "mean            2.764581                1.562856  \n",
      "std             0.753773                1.315491  \n",
      "min             0.000000                0.000000  \n",
      "25%             2.300000                1.000000  \n",
      "50%             2.780000                1.000000  \n",
      "75%             3.270000                2.000000  \n",
      "max             5.400000                9.000000  \n"
     ]
    }
   ],
   "source": [
    "# Summary statistics\n",
    "print(df.describe())"
   ]
  },
  {
   "cell_type": "code",
   "execution_count": 13,
   "id": "f3bb298c-91bb-49ce-b65d-66923c2c9188",
   "metadata": {
    "scrolled": true
   },
   "outputs": [
    {
     "name": "stdout",
     "output_type": "stream",
     "text": [
      "state                     0\n",
      "account length            0\n",
      "area code                 0\n",
      "phone number              0\n",
      "international plan        0\n",
      "voice mail plan           0\n",
      "number vmail messages     0\n",
      "total day minutes         0\n",
      "total day calls           0\n",
      "total day charge          0\n",
      "total eve minutes         0\n",
      "total eve calls           0\n",
      "total eve charge          0\n",
      "total night minutes       0\n",
      "total night calls         0\n",
      "total night charge        0\n",
      "total intl minutes        0\n",
      "total intl calls          0\n",
      "total intl charge         0\n",
      "customer service calls    0\n",
      "churn                     0\n",
      "dtype: int64\n"
     ]
    }
   ],
   "source": [
    "#check for missing values\n",
    "print(df.isnull().sum())"
   ]
  },
  {
   "cell_type": "code",
   "execution_count": 14,
   "id": "0b3e2225-7d00-4ae4-9d50-05103a516885",
   "metadata": {},
   "outputs": [
    {
     "data": {
      "text/plain": [
       "0"
      ]
     },
     "execution_count": 14,
     "metadata": {},
     "output_type": "execute_result"
    }
   ],
   "source": [
    "#cheaking for duplicates\n",
    "df.duplicated().sum()"
   ]
  },
  {
   "cell_type": "code",
   "execution_count": 15,
   "id": "c16ffb4b-3962-449f-bfc7-419930ec777c",
   "metadata": {},
   "outputs": [],
   "source": [
    "# Make all column names lowercase and replace spaces with underscores\n",
    "df.columns = df.columns.str.lower().str.replace(\" \", \"_\")\n"
   ]
  },
  {
   "cell_type": "code",
   "execution_count": 16,
   "id": "9fea8b70-3b3b-4f2f-b78b-8007c58dcea5",
   "metadata": {},
   "outputs": [
    {
     "name": "stdout",
     "output_type": "stream",
     "text": [
      "Categorical columns: ['state', 'phone_number', 'international_plan', 'voice_mail_plan']\n"
     ]
    }
   ],
   "source": [
    "cat_cols = df.select_dtypes(include=\"object\").columns\n",
    "print(\"Categorical columns:\", cat_cols.tolist())"
   ]
  },
  {
   "cell_type": "code",
   "execution_count": 17,
   "id": "1796849f-bdf3-4410-9355-3ed28fd73bed",
   "metadata": {},
   "outputs": [],
   "source": [
    "# Encode categorical columns\n",
    "le = LabelEncoder()\n",
    "for col in cat_cols:\n",
    "    df[col] = le.fit_transform(df[col])"
   ]
  },
  {
   "cell_type": "code",
   "execution_count": 18,
   "id": "b89e566b-4859-495a-ac75-1764724acef8",
   "metadata": {},
   "outputs": [
    {
     "name": "stdout",
     "output_type": "stream",
     "text": [
      "       total_day_minutes  total_day_calls  total_day_charge\n",
      "churn                                                      \n",
      "False         175.175754       100.283158         29.780421\n",
      "True          206.914079       101.335404         35.175921\n"
     ]
    }
   ],
   "source": [
    "print(df.groupby(\"churn\")[[\"total_day_minutes\", \"total_day_calls\", \"total_day_charge\"]].mean())\n"
   ]
  },
  {
   "cell_type": "markdown",
   "id": "a2fc24b8-e556-443a-85be-3ad849c97be9",
   "metadata": {
    "scrolled": true
   },
   "source": [
    "### Visualization"
   ]
  },
  {
   "cell_type": "code",
   "execution_count": 19,
   "id": "b2f0d503-fa27-4cf0-a9e0-d1e605b542dc",
   "metadata": {},
   "outputs": [
    {
     "data": {
      "image/png": "[encoded data removed]",
      "text/plain": [
       "<Figure size 640x480 with 1 Axes>"
      ]
     },
     "metadata": {},
     "output_type": "display_data"
    }
   ],
   "source": [
    "#how many customers stayed and how many left\n",
    "df[\"churn\"].value_counts().plot(kind=\"bar\")\n",
    "\n",
    "plt.title(\"Churn Distribution\")\n",
    "plt.xlabel(\"Churn \")\n",
    "plt.ylabel(\"Number of Customers\")\n",
    "plt.show()"
   ]
  },
  {
   "cell_type": "code",
   "execution_count": 41,
   "id": "72b66403-1941-4e5c-98d7-15c8bfc2d865",
   "metadata": {},
   "outputs": [
    {
     "data": {
      "image/png": "[encoded data removed]",
      "text/plain": [
       "<Figure size 640x480 with 1 Axes>"
      ]
     },
     "metadata": {},
     "output_type": "display_data"
    }
   ],
   "source": [
    "#histogram of the length of the period customers stayed\n",
    "df[\"account_length\"].value_counts().plot(kind=\"hist\", edgecolor=\"black\", bins=20)\n",
    "\n",
    "plt.title(\"Account Length Distribution\")\n",
    "plt.xlabel(\"Account Length (days)\")\n",
    "plt.ylabel(\"Number of Customers\")\n",
    "plt.show()"
   ]
  },
  {
   "cell_type": "code",
   "execution_count": 85,
   "id": "57ff4193-6476-4f5a-b38f-d0e1e691585a",
   "metadata": {},
   "outputs": [
    {
     "data": {
      "image/png": "[encoded data removed]",
      "text/plain": [
       "<Figure size 600x600 with 1 Axes>"
      ]
     },
     "metadata": {},
     "output_type": "display_data"
    }
   ],
   "source": [
    "#It compares to show among those who stayed or those who left which group makes more or fewer international calls\n",
    "df.boxplot(column=\"total_intl_calls\", by=\"churn\", figsize=(6,6))\n",
    "\n",
    "plt.title(\"Total International Calls vs Churn\")\n",
    "plt.suptitle(\"\") \n",
    "plt.xlabel(\"Churn\")\n",
    "plt.ylabel(\"Total International Calls\")\n",
    "plt.show()\n"
   ]
  },
  {
   "cell_type": "code",
   "execution_count": 43,
   "id": "d95d2bf7-01d8-4e01-b73d-7b7272e94c1e",
   "metadata": {},
   "outputs": [
    {
     "data": {
      "image/png": "[encoded data removed]",
      "text/plain": [
       "<Figure size 640x480 with 1 Axes>"
      ]
     },
     "metadata": {},
     "output_type": "display_data"
    }
   ],
   "source": [
    "#how much income was made per minute\n",
    "df.head(20).plot(kind=\"scatter\", x=\"total_day_minutes\", y=\"total_day_charge\")\n",
    "\n",
    "plt.title(\"Day Minutes vs Day Charge\")\n",
    "plt.xlabel(\"Total Day Minutes\")\n",
    "plt.ylabel(\"Total Day Charge\")\n",
    "plt.show()\n"
   ]
  },
  {
   "cell_type": "code",
   "execution_count": 45,
   "id": "f0e9eff7-c788-42ce-80ef-99dedf839ea8",
   "metadata": {},
   "outputs": [
    {
     "data": {
      "image/png": "[encoded data removed]",
      "text/plain": [
       "<Figure size 640x480 with 1 Axes>"
      ]
     },
     "metadata": {},
     "output_type": "display_data"
    }
   ],
   "source": [
    "#To know how many customers are unhappy with the service and are more likely to leave\n",
    "df[\"customer_service_calls\"].value_counts().sort_index().plot(kind=\"line\")\n",
    "\n",
    "plt.title(\"Customer Service Calls Distribution\")\n",
    "plt.xlabel(\"Number of Calls\")\n",
    "plt.ylabel(\"Number of Customers\")\n",
    "plt.show()\n"
   ]
  },
  {
   "cell_type": "code",
   "execution_count": null,
   "id": "6cfce718-55f2-4b77-838d-91b538b2401f",
   "metadata": {},
   "outputs": [],
   "source": [
    "#class imbalance\n",
    "df[\"churn\"].value_counts(normalize=True)\n"
   ]
  },
  {
   "cell_type": "markdown",
   "id": "25b9dfc2-7a79-442e-bdca-4379e323d023",
   "metadata": {},
   "source": [
    "### Train-Test Split"
   ]
  },
  {
   "cell_type": "code",
   "execution_count": 22,
   "id": "63a68398-f38a-42a0-bfef-94e7a98fc001",
   "metadata": {},
   "outputs": [],
   "source": [
    "#Features (X) and Target (y) \n",
    "#(X)all customer details except churn\n",
    "#(y)whether customer churned\n",
    "X = df.drop(\"churn\", axis=1)\n",
    "y = df[\"churn\"]"
   ]
  },
  {
   "cell_type": "code",
   "execution_count": 84,
   "id": "be430361-9b97-4986-b1c8-ccf12504e697",
   "metadata": {},
   "outputs": [],
   "source": [
    "# Train-test split (80% train, 20% test)\n",
    "X_train, X_test, y_train, y_test = train_test_split(X, y, test_size=0.2, random_state=42)"
   ]
  },
  {
   "cell_type": "code",
   "execution_count": 24,
   "id": "9758eaae-9bd2-4e6b-bf6d-727c4e698cd1",
   "metadata": {},
   "outputs": [
    {
     "name": "stdout",
     "output_type": "stream",
     "text": [
      "Training set size: (2666, 20)\n",
      "Testing set size: (667, 20)\n"
     ]
    }
   ],
   "source": [
    "print(\"Training set size:\", X_train.shape)\n",
    "print(\"Testing set size:\", X_test.shape)"
   ]
  },
  {
   "cell_type": "markdown",
   "id": "daa07eb6-86d0-4f26-aebd-16ad913ebf21",
   "metadata": {},
   "source": [
    "### Logistic Regression"
   ]
  },
  {
   "cell_type": "code",
   "execution_count": 46,
   "id": "05b22647-f470-451f-9c58-9f5ed1ddd808",
   "metadata": {},
   "outputs": [
    {
     "data": {
      "text/html": [
       "<style>#sk-container-id-2 {color: black;background-color: white;}#sk-container-id-2 pre{padding: 0;}#sk-container-id-2 div.sk-toggleable {background-color: white;}#sk-container-id-2 label.sk-toggleable__label {cursor: pointer;display: block;width: 100%;margin-bottom: 0;padding: 0.3em;box-sizing: border-box;text-align: center;}#sk-container-id-2 label.sk-toggleable__label-arrow:before {content: \"▸\";float: left;margin-right: 0.25em;color: #696969;}#sk-container-id-2 label.sk-toggleable__label-arrow:hover:before {color: black;}#sk-container-id-2 div.sk-estimator:hover label.sk-toggleable__label-arrow:before {color: black;}#sk-container-id-2 div.sk-toggleable__content {max-height: 0;max-width: 0;overflow: hidden;text-align: left;background-color: #f0f8ff;}#sk-container-id-2 div.sk-toggleable__content pre {margin: 0.2em;color: black;border-radius: 0.25em;background-color: #f0f8ff;}#sk-container-id-2 input.sk-toggleable__control:checked~div.sk-toggleable__content {max-height: 200px;max-width: 100%;overflow: auto;}#sk-container-id-2 input.sk-toggleable__control:checked~label.sk-toggleable__label-arrow:before {content: \"▾\";}#sk-container-id-2 div.sk-estimator input.sk-toggleable__control:checked~label.sk-toggleable__label {background-color: #d4ebff;}#sk-container-id-2 div.sk-label input.sk-toggleable__control:checked~label.sk-toggleable__label {background-color: #d4ebff;}#sk-container-id-2 input.sk-hidden--visually {border: 0;clip: rect(1px 1px 1px 1px);clip: rect(1px, 1px, 1px, 1px);height: 1px;margin: -1px;overflow: hidden;padding: 0;position: absolute;width: 1px;}#sk-container-id-2 div.sk-estimator {font-family: monospace;background-color: #f0f8ff;border: 1px dotted black;border-radius: 0.25em;box-sizing: border-box;margin-bottom: 0.5em;}#sk-container-id-2 div.sk-estimator:hover {background-color: #d4ebff;}#sk-container-id-2 div.sk-parallel-item::after {content: \"\";width: 100%;border-bottom: 1px solid gray;flex-grow: 1;}#sk-container-id-2 div.sk-label:hover label.sk-toggleable__label {background-color: #d4ebff;}#sk-container-id-2 div.sk-serial::before {content: \"\";position: absolute;border-left: 1px solid gray;box-sizing: border-box;top: 0;bottom: 0;left: 50%;z-index: 0;}#sk-container-id-2 div.sk-serial {display: flex;flex-direction: column;align-items: center;background-color: white;padding-right: 0.2em;padding-left: 0.2em;position: relative;}#sk-container-id-2 div.sk-item {position: relative;z-index: 1;}#sk-container-id-2 div.sk-parallel {display: flex;align-items: stretch;justify-content: center;background-color: white;position: relative;}#sk-container-id-2 div.sk-item::before, #sk-container-id-2 div.sk-parallel-item::before {content: \"\";position: absolute;border-left: 1px solid gray;box-sizing: border-box;top: 0;bottom: 0;left: 50%;z-index: -1;}#sk-container-id-2 div.sk-parallel-item {display: flex;flex-direction: column;z-index: 1;position: relative;background-color: white;}#sk-container-id-2 div.sk-parallel-item:first-child::after {align-self: flex-end;width: 50%;}#sk-container-id-2 div.sk-parallel-item:last-child::after {align-self: flex-start;width: 50%;}#sk-container-id-2 div.sk-parallel-item:only-child::after {width: 0;}#sk-container-id-2 div.sk-dashed-wrapped {border: 1px dashed gray;margin: 0 0.4em 0.5em 0.4em;box-sizing: border-box;padding-bottom: 0.4em;background-color: white;}#sk-container-id-2 div.sk-label label {font-family: monospace;font-weight: bold;display: inline-block;line-height: 1.2em;}#sk-container-id-2 div.sk-label-container {text-align: center;}#sk-container-id-2 div.sk-container {/* jupyter's `normalize.less` sets `[hidden] { display: none; }` but bootstrap.min.css set `[hidden] { display: none !important; }` so we also need the `!important` here to be able to override the default hidden behavior on the sphinx rendered scikit-learn.org. See: https://github.com/scikit-learn/scikit-learn/issues/21755 */display: inline-block !important;position: relative;}#sk-container-id-2 div.sk-text-repr-fallback {display: none;}</style><div id=\"sk-container-id-2\" class=\"sk-top-container\"><div class=\"sk-text-repr-fallback\"><pre>LogisticRegression(max_iter=1000)</pre><b>In a Jupyter environment, please rerun this cell to show the HTML representation or trust the notebook. <br />On GitHub, the HTML representation is unable to render, please try loading this page with nbviewer.org.</b></div><div class=\"sk-container\" hidden><div class=\"sk-item\"><div class=\"sk-estimator sk-toggleable\"><input class=\"sk-toggleable__control sk-hidden--visually\" id=\"sk-estimator-id-2\" type=\"checkbox\" checked><label for=\"sk-estimator-id-2\" class=\"sk-toggleable__label sk-toggleable__label-arrow\">LogisticRegression</label><div class=\"sk-toggleable__content\"><pre>LogisticRegression(max_iter=1000)</pre></div></div></div></div></div>"
      ],
      "text/plain": [
       "LogisticRegression(max_iter=1000)"
      ]
     },
     "execution_count": 46,
     "metadata": {},
     "output_type": "execute_result"
    }
   ],
   "source": [
    "# Build Logistic Regression model\n",
    "scaler = StandardScaler()\n",
    "\n",
    "X_train_scaled = scaler.fit_transform(X_train)\n",
    "X_test_scaled = scaler.transform(X_test)\n",
    "\n",
    "log_model = LogisticRegression(max_iter=1000)\n",
    "# Train the model\n",
    "log_model.fit(X_train_scaled, y_train)"
   ]
  },
  {
   "cell_type": "code",
   "execution_count": 47,
   "id": "b8cf9275-73b4-4240-90c1-85ef91927d7c",
   "metadata": {},
   "outputs": [],
   "source": [
    "# Make predictions\n",
    "y_pred_log = log_model.predict(X_test_scaled)"
   ]
  },
  {
   "cell_type": "code",
   "execution_count": 48,
   "id": "2b2652c9-acfa-4378-830d-95d561827fd2",
   "metadata": {},
   "outputs": [
    {
     "name": "stdout",
     "output_type": "stream",
     "text": [
      "Logistic Regression Results:\n",
      "Accuracy: 0.8545727136431784\n",
      "\n",
      "Confusion Matrix:\n",
      " [[553  13]\n",
      " [ 84  17]]\n",
      "\n",
      "Classification Report:\n",
      "               precision    recall  f1-score   support\n",
      "\n",
      "       False       0.87      0.98      0.92       566\n",
      "        True       0.57      0.17      0.26       101\n",
      "\n",
      "    accuracy                           0.85       667\n",
      "   macro avg       0.72      0.57      0.59       667\n",
      "weighted avg       0.82      0.85      0.82       667\n",
      "\n"
     ]
    }
   ],
   "source": [
    "# Evaluate performance\n",
    "print(\"Logistic Regression Results:\")\n",
    "print(\"Accuracy:\", accuracy_score(y_test, y_pred_log))\n",
    "print(\"\\nConfusion Matrix:\\n\", confusion_matrix(y_test, y_pred_log))\n",
    "print(\"\\nClassification Report:\\n\", classification_report(y_test, y_pred_log))"
   ]
  },
  {
   "cell_type": "code",
   "execution_count": 50,
   "id": "5fa62344-5b95-46d9-9111-e998dd06b4a7",
   "metadata": {},
   "outputs": [
    {
     "name": "stdout",
     "output_type": "stream",
     "text": [
      "Logistic Regression Accuracy: 0.7781109445277361\n",
      "\n",
      "Confusion Matrix:\n",
      " [[441 125]\n",
      " [ 23  78]]\n",
      "\n",
      "Classification Report:\n",
      "               precision    recall  f1-score   support\n",
      "\n",
      "       False       0.95      0.78      0.86       566\n",
      "        True       0.38      0.77      0.51       101\n",
      "\n",
      "    accuracy                           0.78       667\n",
      "   macro avg       0.67      0.78      0.68       667\n",
      "weighted avg       0.86      0.78      0.80       667\n",
      "\n"
     ]
    }
   ],
   "source": [
    "#logistic regression with balancing\n",
    "scaler = StandardScaler()\n",
    "X_train_scaled = scaler.fit_transform(X_train)\n",
    "X_test_scaled = scaler.transform(X_test)\n",
    "\n",
    "log_model = LogisticRegression(max_iter=1000, class_weight=\"balanced\")\n",
    "log_model.fit(X_train_scaled, y_train)\n",
    "y_pred_log = log_model.predict(X_test_scaled)\n",
    "\n",
    "print(\"Logistic Regression Accuracy:\", accuracy_score(y_test, y_pred_log))\n",
    "print(\"\\nConfusion Matrix:\\n\", confusion_matrix(y_test, y_pred_log))\n",
    "print(\"\\nClassification Report:\\n\", classification_report(y_test, y_pred_log))\n"
   ]
  },
  {
   "cell_type": "code",
   "execution_count": null,
   "id": "2ddc171c-2d4c-45e5-a783-217171db1f64",
   "metadata": {},
   "outputs": [],
   "source": []
  },
  {
   "cell_type": "code",
   "execution_count": 90,
   "id": "4311c596-0747-4bdd-900a-d84538feb2b4",
   "metadata": {},
   "outputs": [
    {
     "data": {
      "image/png": "[encoded data removed]",
      "text/plain": [
       "<Figure size 600x600 with 1 Axes>"
      ]
     },
     "metadata": {},
     "output_type": "display_data"
    }
   ],
   "source": [
    "#the ROC-AUC curve shows how the model is good at distinguishing the churned and the unchurned\n",
    "fpr, tpr, _ = roc_curve(y_test, y_pred_prob)\n",
    "roc_auc = auc(fpr, tpr)\n",
    "\n",
    "# Plot\n",
    "plt.figure(figsize=(6,6))\n",
    "plt.plot(fpr, tpr, color=\"blue\", label=f\"AUC = {roc_auc:.2f}\", linewidth=2)\n",
    "plt.plot([0,1], [0,1], linestyle=\"--\", color=\"gray\")  \n",
    "plt.xlabel(\"False Positive Rate\")\n",
    "plt.ylabel(\"True Positive Rate\")\n",
    "plt.title(\"ROC Curve - Logistic Regression\")\n",
    "plt.legend(loc=\"lower right\")\n",
    "plt.show()"
   ]
  },
  {
   "cell_type": "markdown",
   "id": "040fae38-6b03-4937-92f7-25817ca4219b",
   "metadata": {},
   "source": [
    "### Decision Tree"
   ]
  },
  {
   "cell_type": "code",
   "execution_count": 33,
   "id": "5544a4aa-66e8-4523-b71a-ac18db1cddc7",
   "metadata": {},
   "outputs": [
    {
     "data": {
      "text/html": [
       "<style>#sk-container-id-1 {color: black;background-color: white;}#sk-container-id-1 pre{padding: 0;}#sk-container-id-1 div.sk-toggleable {background-color: white;}#sk-container-id-1 label.sk-toggleable__label {cursor: pointer;display: block;width: 100%;margin-bottom: 0;padding: 0.3em;box-sizing: border-box;text-align: center;}#sk-container-id-1 label.sk-toggleable__label-arrow:before {content: \"▸\";float: left;margin-right: 0.25em;color: #696969;}#sk-container-id-1 label.sk-toggleable__label-arrow:hover:before {color: black;}#sk-container-id-1 div.sk-estimator:hover label.sk-toggleable__label-arrow:before {color: black;}#sk-container-id-1 div.sk-toggleable__content {max-height: 0;max-width: 0;overflow: hidden;text-align: left;background-color: #f0f8ff;}#sk-container-id-1 div.sk-toggleable__content pre {margin: 0.2em;color: black;border-radius: 0.25em;background-color: #f0f8ff;}#sk-container-id-1 input.sk-toggleable__control:checked~div.sk-toggleable__content {max-height: 200px;max-width: 100%;overflow: auto;}#sk-container-id-1 input.sk-toggleable__control:checked~label.sk-toggleable__label-arrow:before {content: \"▾\";}#sk-container-id-1 div.sk-estimator input.sk-toggleable__control:checked~label.sk-toggleable__label {background-color: #d4ebff;}#sk-container-id-1 div.sk-label input.sk-toggleable__control:checked~label.sk-toggleable__label {background-color: #d4ebff;}#sk-container-id-1 input.sk-hidden--visually {border: 0;clip: rect(1px 1px 1px 1px);clip: rect(1px, 1px, 1px, 1px);height: 1px;margin: -1px;overflow: hidden;padding: 0;position: absolute;width: 1px;}#sk-container-id-1 div.sk-estimator {font-family: monospace;background-color: #f0f8ff;border: 1px dotted black;border-radius: 0.25em;box-sizing: border-box;margin-bottom: 0.5em;}#sk-container-id-1 div.sk-estimator:hover {background-color: #d4ebff;}#sk-container-id-1 div.sk-parallel-item::after {content: \"\";width: 100%;border-bottom: 1px solid gray;flex-grow: 1;}#sk-container-id-1 div.sk-label:hover label.sk-toggleable__label {background-color: #d4ebff;}#sk-container-id-1 div.sk-serial::before {content: \"\";position: absolute;border-left: 1px solid gray;box-sizing: border-box;top: 0;bottom: 0;left: 50%;z-index: 0;}#sk-container-id-1 div.sk-serial {display: flex;flex-direction: column;align-items: center;background-color: white;padding-right: 0.2em;padding-left: 0.2em;position: relative;}#sk-container-id-1 div.sk-item {position: relative;z-index: 1;}#sk-container-id-1 div.sk-parallel {display: flex;align-items: stretch;justify-content: center;background-color: white;position: relative;}#sk-container-id-1 div.sk-item::before, #sk-container-id-1 div.sk-parallel-item::before {content: \"\";position: absolute;border-left: 1px solid gray;box-sizing: border-box;top: 0;bottom: 0;left: 50%;z-index: -1;}#sk-container-id-1 div.sk-parallel-item {display: flex;flex-direction: column;z-index: 1;position: relative;background-color: white;}#sk-container-id-1 div.sk-parallel-item:first-child::after {align-self: flex-end;width: 50%;}#sk-container-id-1 div.sk-parallel-item:last-child::after {align-self: flex-start;width: 50%;}#sk-container-id-1 div.sk-parallel-item:only-child::after {width: 0;}#sk-container-id-1 div.sk-dashed-wrapped {border: 1px dashed gray;margin: 0 0.4em 0.5em 0.4em;box-sizing: border-box;padding-bottom: 0.4em;background-color: white;}#sk-container-id-1 div.sk-label label {font-family: monospace;font-weight: bold;display: inline-block;line-height: 1.2em;}#sk-container-id-1 div.sk-label-container {text-align: center;}#sk-container-id-1 div.sk-container {/* jupyter's `normalize.less` sets `[hidden] { display: none; }` but bootstrap.min.css set `[hidden] { display: none !important; }` so we also need the `!important` here to be able to override the default hidden behavior on the sphinx rendered scikit-learn.org. See: https://github.com/scikit-learn/scikit-learn/issues/21755 */display: inline-block !important;position: relative;}#sk-container-id-1 div.sk-text-repr-fallback {display: none;}</style><div id=\"sk-container-id-1\" class=\"sk-top-container\"><div class=\"sk-text-repr-fallback\"><pre>DecisionTreeClassifier(max_depth=4, random_state=42)</pre><b>In a Jupyter environment, please rerun this cell to show the HTML representation or trust the notebook. <br />On GitHub, the HTML representation is unable to render, please try loading this page with nbviewer.org.</b></div><div class=\"sk-container\" hidden><div class=\"sk-item\"><div class=\"sk-estimator sk-toggleable\"><input class=\"sk-toggleable__control sk-hidden--visually\" id=\"sk-estimator-id-1\" type=\"checkbox\" checked><label for=\"sk-estimator-id-1\" class=\"sk-toggleable__label sk-toggleable__label-arrow\">DecisionTreeClassifier</label><div class=\"sk-toggleable__content\"><pre>DecisionTreeClassifier(max_depth=4, random_state=42)</pre></div></div></div></div></div>"
      ],
      "text/plain": [
       "DecisionTreeClassifier(max_depth=4, random_state=42)"
      ]
     },
     "execution_count": 33,
     "metadata": {},
     "output_type": "execute_result"
    }
   ],
   "source": [
    "# Build Decision Tree model\n",
    "tree_model = DecisionTreeClassifier(random_state=42, max_depth=4)\n",
    "tree_model.fit(X_train, y_train)"
   ]
  },
  {
   "cell_type": "code",
   "execution_count": 34,
   "id": "1c6d90bd-03b3-49c0-8026-fc7b784ba2e5",
   "metadata": {},
   "outputs": [],
   "source": [
    "# Make predictions\n",
    "y_pred_tree = tree_model.predict(X_test)"
   ]
  },
  {
   "cell_type": "code",
   "execution_count": 36,
   "id": "f70baf85-da24-4f97-9a38-e3cc9fe7681e",
   "metadata": {},
   "outputs": [
    {
     "name": "stdout",
     "output_type": "stream",
     "text": [
      "Decision Tree Accuracy: 0.9145427286356822\n",
      "\n",
      "Confusion Matrix:\n",
      " [[556  10]\n",
      " [ 47  54]]\n",
      "\n",
      "Classification Report:\n",
      "               precision    recall  f1-score   support\n",
      "\n",
      "       False       0.92      0.98      0.95       566\n",
      "        True       0.84      0.53      0.65       101\n",
      "\n",
      "    accuracy                           0.91       667\n",
      "   macro avg       0.88      0.76      0.80       667\n",
      "weighted avg       0.91      0.91      0.91       667\n",
      "\n"
     ]
    }
   ],
   "source": [
    "# Evaluate performance\n",
    "print(\"Decision Tree Accuracy:\", accuracy_score(y_test, y_pred_tree))\n",
    "print(\"\\nConfusion Matrix:\\n\", confusion_matrix(y_test, y_pred_tree))\n",
    "print(\"\\nClassification Report:\\n\", classification_report(y_test, y_pred_tree))"
   ]
  },
  {
   "cell_type": "code",
   "execution_count": 51,
   "id": "431968ce-adcf-4f92-8579-e2fd1888366a",
   "metadata": {},
   "outputs": [
    {
     "name": "stdout",
     "output_type": "stream",
     "text": [
      "Decision Tree Accuracy: 0.8200899550224887\n",
      "\n",
      "Confusion Matrix:\n",
      " [[462 104]\n",
      " [ 16  85]]\n",
      "\n",
      "Classification Report:\n",
      "               precision    recall  f1-score   support\n",
      "\n",
      "       False       0.97      0.82      0.89       566\n",
      "        True       0.45      0.84      0.59       101\n",
      "\n",
      "    accuracy                           0.82       667\n",
      "   macro avg       0.71      0.83      0.74       667\n",
      "weighted avg       0.89      0.82      0.84       667\n",
      "\n"
     ]
    }
   ],
   "source": [
    "#decision tree with balancing\n",
    "tree_model = DecisionTreeClassifier(random_state=42, max_depth=4, class_weight=\"balanced\")\n",
    "tree_model.fit(X_train, y_train)\n",
    "y_pred_tree = tree_model.predict(X_test)\n",
    "\n",
    "print(\"Decision Tree Accuracy:\", accuracy_score(y_test, y_pred_tree))\n",
    "print(\"\\nConfusion Matrix:\\n\", confusion_matrix(y_test, y_pred_tree))\n",
    "print(\"\\nClassification Report:\\n\", classification_report(y_test, y_pred_tree))\n"
   ]
  },
  {
   "cell_type": "markdown",
   "id": "c6384f5f-4c85-44b2-a036-77e411ef69d7",
   "metadata": {},
   "source": [
    "***Accuracy***-  how often the model is correct.\n",
    "\n",
    "***Confusion Matrix*** -\n",
    "\n",
    "- *Top-left*: Correctly predicted “Stayed”\n",
    "\n",
    "- *Bottom-right*: Correctly predicted “Churned”\n",
    "\n",
    "- *Off-diagonal*: Mistakes\n",
    "\n",
    "***Classification Report***- shows precision, recall, and F1-score for each class."
   ]
  },
  {
   "cell_type": "code",
   "execution_count": 38,
   "id": "08ed86dd-2d4d-4749-b3fa-1305728a6f10",
   "metadata": {
    "scrolled": true
   },
   "outputs": [
    {
     "data": {
      "image/png": "[encoded data removed]",
      "text/plain": [
       "<Figure size 1600x800 with 1 Axes>"
      ]
     },
     "metadata": {},
     "output_type": "display_data"
    }
   ],
   "source": [
    "plt.figure(figsize=(16,8))\n",
    "plot_tree(tree_model, feature_names=X.columns, class_names=[\"Stayed\",\"Churned\"], filled=True)\n",
    "plt.show()\n"
   ]
  },
  {
   "cell_type": "code",
   "execution_count": null,
   "id": "2d127bb2-87b1-4752-8570-6d5e9a0d5b4e",
   "metadata": {},
   "outputs": [],
   "source": []
  },
  {
   "cell_type": "markdown",
   "id": "f9ab80c2-5150-4dac-af19-7582049fbcc3",
   "metadata": {},
   "source": [
    "# Evaluation"
   ]
  },
  {
   "cell_type": "markdown",
   "id": "fcdfb71b-3044-46db-b9fc-af47e96015bf",
   "metadata": {},
   "source": [
    "#### comparing logistic regression and decision tree"
   ]
  },
  {
   "cell_type": "code",
   "execution_count": 83,
   "id": "3fbc6823-ab02-44b7-8524-85b3a1f8f137",
   "metadata": {},
   "outputs": [
    {
     "data": {
      "image/png": "[encoded data removed]",
      "text/plain": [
       "<Figure size 1200x500 with 2 Axes>"
      ]
     },
     "metadata": {},
     "output_type": "display_data"
    }
   ],
   "source": [
    "\n",
    "# Get confusion matrix \n",
    "cm_log = confusion_matrix(y_test, y_pred_log)\n",
    "cm_tree = confusion_matrix(y_test, y_pred_tree)\n",
    "\n",
    "fig, axes = plt.subplots(1, 2, figsize=(12, 5))\n",
    "\n",
    "# Logistic Regression Confusion Matrix plot\n",
    "11111111111w[o0-]-------------009zzzzzzzzzzzzzzzzzzzzzz`\n",
    "axes[0].imshow(cm_log, cmap=\"Blues\")\n",
    "axes[0].set_title(\"Logistic Regression\")\n",
    "axes[0].set_xlabel(\"Predicted\")\n",
    "axes[0].set_ylabel(\"Actual\")\n",
    "axes[0].set_xticks([0, 1])\n",
    "axes[0].set_yticks([0, 1])\n",
    "axes[0].set_xticklabels([\"Stayed\", \"Churn\"])\n",
    "axes[0].set_yticklabels([\"Stayed\", \"Churn\"])\n",
    "\n",
    "for i in range(2):\n",
    "    for j in range(2):\n",
    "        axes[0].text(j, i, cm_log[i, j], ha=\"center\", va=\"center\", color=\"black\")\n",
    "\n",
    "# Decision Tree Confusion Matrix\n",
    "axes[1].imshow(cm_tree, cmap=\"Blues\")\n",
    "axes[1].set_title(\"Decision Tree\")\n",
    "axes[1].set_xlabel(\"Predicted\")\n",
    "axes[1].set_ylabel(\"Actual\")\n",
    "axes[1].set_xticks([0, 1])\n",
    "axes[1].set_yticks([0, 1])\n",
    "axes[1].set_xticklabels([\"Stayed\", \"Churn\"])\n",
    "axes[1].set_yticklabels([\"Stayed\", \"Churn\"])\n",
    "\n",
    "for i in range(2):\n",
    "    for j in range(2):\n",
    "        axes[1].text(j, i, cm_tree[i, j], ha=\"center\", va=\"center\", color=\"black\")\n",
    "\n",
    "plt.tight_layout()\n",
    "plt.show()"
   ]
  },
  {
   "cell_type": "code",
   "execution_count": 81,
   "id": "a258130c-9f1c-4461-891f-c9a9f4edbdc0",
   "metadata": {},
   "outputs": [
    {
     "name": "stdout",
     "output_type": "stream",
     "text": [
      "Logistic Regression Accuracy: 0.7571214392803598\n",
      "Decision Tree Accuracy: 0.8200899550224887\n"
     ]
    }
   ],
   "source": [
    "#Compare model accuracy\n",
    "print(\"Logistic Regression Accuracy:\", accuracy_score(y_test, y_pred_log))\n",
    "print(\"Decision Tree Accuracy:\", accuracy_score(y_test, y_pred_tree))\n"
   ]
  },
  {
   "cell_type": "markdown",
   "id": "9721161c-48fe-4467-83fe-fd511289a34b",
   "metadata": {},
   "source": [
    "\n",
    "In **`logistic regression`** it predicted whether customers would stay or leave is about `85` times out of `100`\n",
    "\n",
    "In **`decision tree`** it correctly predicted whether customers would stay or churn `91` times out of `100`"
   ]
  },
  {
   "cell_type": "markdown",
   "id": "d75931b2-670c-41d5-a91b-0d56b2c9ba89",
   "metadata": {},
   "source": []
  },
  {
   "cell_type": "markdown",
   "id": "c3b5373a-4b70-4b9e-89cf-3ee7250612e1",
   "metadata": {},
   "source": [
    "### Logistic Regresssion"
   ]
  },
  {
   "cell_type": "markdown",
   "id": "f5b42611-21c4-45e9-9ebb-76cd5eae32e7",
   "metadata": {},
   "source": [
    "- Achieved a strong performance in distinguishing churned vs. retained customers.\n",
    "\n",
    "- The ROC curve and AUC score showed good ability to separate the two classes.\n",
    "\n",
    "- It provides interpretable coefficients, helping us understand the impact of each feature on churn probability."
   ]
  },
  {
   "cell_type": "markdown",
   "id": "b60b8390-365f-4276-ac69-ce73f34937a7",
   "metadata": {},
   "source": [
    "### Decision Tree "
   ]
  },
  {
   "cell_type": "markdown",
   "id": "d12d08a8-6903-4877-aa23-a83b86fe4ba9",
   "metadata": {},
   "source": [
    "-\tPerformed reasonably well but showed slightly lower predictive power compared to Logistic Regression.\n",
    "\n",
    "-\tThe tree structure is highly interpretable and provides clear decision rules, making it useful for business communication.\n",
    "\n",
    "-\tHowever, it is more prone to overfitting and may not generalize as well as Logistic Regression.\n"
   ]
  },
  {
   "cell_type": "markdown",
   "id": "5cd3bca2-6150-4230-9105-95de902336f6",
   "metadata": {},
   "source": [
    " **`Logistic Regression`** offered better balance between accuracy, interpretability, and generalization, while the **`Decision Tree`** is useful for visualization and explaining simple patterns in churn behavior."
   ]
  },
  {
   "cell_type": "code",
   "execution_count": null,
   "id": "55dc3d14-8859-45d1-97c9-269ff56f2ab1",
   "metadata": {},
   "outputs": [],
   "source": []
  },
  {
   "cell_type": "markdown",
   "id": "2be5750f-925b-4ba3-9492-ca235007d3f4",
   "metadata": {},
   "source": [
    "# Conclusion"
   ]
  },
  {
   "cell_type": "markdown",
   "id": "c0bc4b0d-fcab-461b-9757-b1e49de4957f",
   "metadata": {},
   "source": [
    "- A significant number of customers are churning.\n",
    "  \n",
    "-  The visualizations show that customers with more customer service calls and certain plan features are more likely to churn, while those with fewer complaints tend to stay.\n",
    "  \n",
    "-   Customers who make international calls tend to remain with the company, while domestic callers are more prone to churn.\n",
    "  \n",
    "-    Lower customer service calls suggest higher satisfaction among some customers. Additionally, revenue per minute is a key driver of company income."
   ]
  },
  {
   "cell_type": "markdown",
   "id": "1e0db40e-88b1-4ee9-bf26-a057fb1fe5cd",
   "metadata": {},
   "source": [
    "# Recommendation"
   ]
  },
  {
   "cell_type": "markdown",
   "id": "f1748e48-3e97-4de2-a9a6-453ce2237386",
   "metadata": {},
   "source": [
    "- Improve customer service efficiency to reduce dissatisfaction and complaints.\n",
    "\n",
    "- Design retention offers for domestic customers who are more likely to churn.\n",
    "\n",
    "- Strengthen international call packages since these customers are more loyal.\n",
    "\n",
    "- Monitor high-usage customers (revenue per minute) and reward them with loyalty incentives to maintain profitability."
   ]
  },
  {
   "cell_type": "code",
   "execution_count": null,
   "id": "e3778e01-4ce5-4843-a1d8-3ea66429ad65",
   "metadata": {},
   "outputs": [],
   "source": []
  }
 ],
 "metadata": {
  "kernelspec": {
   "display_name": "Python 3 (ipykernel)",
   "language": "python",
   "name": "python3"
  },
  "language_info": {
   "codemirror_mode": {
    "name": "ipython",
    "version": 3
   },
   "file_extension": ".py",
   "mimetype": "text/x-python",
   "name": "python",
   "nbconvert_exporter": "python",
   "pygments_lexer": "ipython3",
   "version": "3.11.7"
  },
  "widgets": {
   "application/vnd.jupyter.widget-state+json": {
    "state": {},
    "version_major": 2,
    "version_minor": 0
   }
  }
 },
 "nbformat": 4,
 "nbformat_minor": 5
}
