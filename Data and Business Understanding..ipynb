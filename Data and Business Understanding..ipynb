{
 "cells": [
  {
   "cell_type": "markdown",
   "id": "c546a4e4-0f1a-43a7-8377-5482503c2d99",
   "metadata": {},
   "source": [
    "Build a classifier to predict whether a customer will (\"soon\") stop doing business with SyriaTel, a telecommunications company. This is a binary classification problem.\r\n",
    "\r\n",
    "Most naturally, your audience here would be the telecom business itself, interested in reducing how much money is lost because of customers who don't stick around very long. The question you can ask is: are there any predictable patterns here?"
   ]
  },
  {
   "cell_type": "markdown",
   "id": "d12a767a-9992-4960-b4a3-8ce33a840852",
   "metadata": {},
   "source": [
    "# 1.0 **BUSINESS UNDERSTANDING**"
   ]
  },
  {
   "cell_type": "markdown",
   "id": "d424bc6f-84f2-42b4-94fa-d1fa5384d9d2",
   "metadata": {},
   "source": [
    "### 1.1 **BUSINESS OVERVIEW**"
   ]
  },
  {
   "cell_type": "code",
   "execution_count": 1,
   "id": "3bbc4e13-22ff-49e9-9ad2-6434130908e1",
   "metadata": {},
   "outputs": [],
   "source": [
    "#What is the business about\n",
    "#How its evolving over time\n",
    "#Challenges the business faces"
   ]
  },
  {
   "cell_type": "markdown",
   "id": "cc25763e-274a-4798-8613-ddc40ace5999",
   "metadata": {},
   "source": [
    "A telecom business involves the development, ownership or operation of telecommunication systems and services such as mobile communication, fixed-line services, and internet provision to a wide range of customers. Over the years, the telecom business has evolved rapidly because of technology shifts such as adoption of 5G networks, customer expectations, and stiff competition in the field.It can operate in diverse sectors, from software and e-commerce to fintech and biotechnology, but they are all united by a reliance on digital infrastructure and a data-driven approach.The business is often faced by challenges such as customer churn where the clients cancel subscriptions and move to competitors or even fraud cases such as unusual data activities in their sysytems. Due to intense competition in the sector, potential loopholes should be handled with utmost importance and consider decision making based on data-driven insights."
   ]
  },
  {
   "cell_type": "markdown",
   "id": "838e2834-6e71-4362-aa48-a4a62b5d22a1",
   "metadata": {},
   "source": [
    "### 1.2 **PROBLEM STATEMENT**"
   ]
  },
  {
   "cell_type": "code",
   "execution_count": 5,
   "id": "2883941f-8403-492f-ac03-6147699e49c4",
   "metadata": {},
   "outputs": [],
   "source": [
    "#Problem we're trying to solve.\n",
    "#Describes the business pain point and why the project matters\n",
    "#This explains the challenge and the need for action."
   ]
  },
  {
   "cell_type": "markdown",
   "id": "e7274ae2-b199-4c49-879b-16625170e6e3",
   "metadata": {},
   "source": [
    "SyriaTel aims to lower the trend in revenue loss due to customer churn, where customers cancel or fail to renew subscriptions and switch to competitors. To address this issue, the company wants to utilize customer data and come up with data-driven insights that will guide in customer retention strategies."
   ]
  },
  {
   "cell_type": "markdown",
   "id": "848d8a83-42b3-4935-8aa7-2dc9f7ade062",
   "metadata": {},
   "source": [
    "### 1.3 **BUSINESS OBJECTIVES**"
   ]
  },
  {
   "cell_type": "markdown",
   "id": "1233be2c-7d63-41de-af2b-7fe720594516",
   "metadata": {},
   "source": [
    "#### 1.3.1 **MAIN OBJECTIVE.**"
   ]
  },
  {
   "cell_type": "code",
   "execution_count": 6,
   "id": "bb19cfb5-30a2-4bb6-878b-9418db3a956b",
   "metadata": {},
   "outputs": [],
   "source": [
    "#Main solution you're trying to give.\n",
    "#States the specific goal of theproject.\n",
    "#defines the solution focus."
   ]
  },
  {
   "cell_type": "markdown",
   "id": "c51eaa7d-1f34-42cf-aee1-976abd4a0477",
   "metadata": {},
   "source": [
    "The main objective of this project is to help SyriaTel, a telecommunication company, reduce revenue loss caused by customer churn by developing a predictive model that identifies customers who are most likely to leave."
   ]
  },
  {
   "cell_type": "markdown",
   "id": "4cb5c8ea-5709-45cc-abd0-c2657eca7a75",
   "metadata": {},
   "source": [
    "#### 1.3.2 **SPECIFIC OBJECTIVES**"
   ]
  },
  {
   "cell_type": "code",
   "execution_count": 2,
   "id": "7e91f124-8bba-47c5-82ff-bf0e8f015570",
   "metadata": {},
   "outputs": [],
   "source": [
    "#steps you take to get to the main objectives."
   ]
  },
  {
   "cell_type": "markdown",
   "id": "e40fae06-eec1-40b3-8103-c9dd8d0c6eff",
   "metadata": {},
   "source": [
    "1. Explore the cutomer data to identify trends and patterns that influence churn.\n",
    "2. Preprocess the data by handling missing values, encoding categorical features and create new features with respect to customer behavior.\n",
    "3. Build and train diffent classification models that will predict customer churn.\n",
    "4. Evaluate the model perfomance.\n",
    "5. Identify the most significant features that will provide actionable insights with respect to churn.\n",
    "6. Provide recommendations to stakeholders for customer retention strategies."
   ]
  },
  {
   "cell_type": "markdown",
   "id": "73437aad-9c94-4e16-8fb1-ce66566bbba0",
   "metadata": {},
   "source": [
    "#### 1.3.2 **RESEARCH QUESTIONS**"
   ]
  },
  {
   "cell_type": "code",
   "execution_count": 3,
   "id": "49e4bff0-12c9-4f76-b16b-f987a642180b",
   "metadata": {},
   "outputs": [],
   "source": [
    "#These are just specific objectives paraphrased in question form"
   ]
  },
  {
   "cell_type": "markdown",
   "id": "a38149bf-454a-408d-b458-54c9c9b56f6a",
   "metadata": {},
   "source": [
    "1. What are the key factors that influence churn at SyrilTel?\n",
    "2. Which classification model perfoms best to predict customer churn likelihood?\n",
    "3. How do customer usage habits, billing trends, and service experiences compare between churners and non-churners?\n",
    "4. Which strategies can be adopted by the company based on findings, to reduce churn and improve customer retention?"
   ]
  },
  {
   "cell_type": "markdown",
   "id": "ed386d22-aad9-4531-8fe8-e4b854642c6f",
   "metadata": {},
   "source": [
    "### 1.3 **SUCCESS CRITERIA**"
   ]
  },
  {
   "cell_type": "markdown",
   "id": "188c5df1-7ace-42a5-b964-2ebd830538e8",
   "metadata": {},
   "source": [
    "To build a classification model that:\n",
    "- Predicts whether a customer is likely to stay or churn.\n",
    "- Provides interpretable insights into the key factors influencing churn, to support customer retention strategies."
   ]
  },
  {
   "cell_type": "markdown",
   "id": "71eb9cfb-6852-469d-b30f-68d3387debc5",
   "metadata": {},
   "source": [
    "# 2.0 **DATA UNDERSTANDING**"
   ]
  },
  {
   "cell_type": "markdown",
   "id": "399ab888-065c-4763-b509-57c17ec0c816",
   "metadata": {},
   "source": [
    "- The dataset was sourced from Kaggle. (https://www.kaggle.com/datasets/becksddf/churn-in-telecoms-dataset)\n",
    "- It consists of 3333 records and 21 fields.\n",
    "- The dataset consists of float, integer, boolean, and object data types.\n",
    "- The dataset contains information on customer data across different states, including their usage behavior, subscription plans, and churn status.\n",
    "- The column names are:\n",
    "   1. **State**                  \n",
    "   2. **Account length**         \n",
    "   3. **Area code**      \n",
    "   4. **Phone number**         \n",
    "   5. **International plan**     \n",
    "   6. **Voice mail plan**       \n",
    "   7. **Number vmail messages**   \n",
    "   8. **Total day minutes**      \n",
    "   9. **Total day calls**        \n",
    "   10. **Total day charge**     \n",
    "   11. **Total eve minutes**\n",
    "   12. **Total eve  calls**\n",
    "   13. **Total eve charge**      \n",
    "   14. **Total night minutes**     \n",
    "   15. **Total night calls**   \n",
    "   16. **Total night charge**     \n",
    "   17. **Total intl minutes**   \n",
    "   18. **Total intl calls**    \n",
    "   19. **Total intl charge**     \n",
    "   20. **Customer service calls**\n",
    "   21. **Churn**                "
   ]
  },
  {
   "cell_type": "code",
   "execution_count": null,
   "id": "4b0ebe41-2983-4974-a4b1-c523c3254140",
   "metadata": {},
   "outputs": [],
   "source": []
  }
 ],
 "metadata": {
  "kernelspec": {
   "display_name": "Python 3 (ipykernel)",
   "language": "python",
   "name": "python3"
  },
  "language_info": {
   "codemirror_mode": {
    "name": "ipython",
    "version": 3
   },
   "file_extension": ".py",
   "mimetype": "text/x-python",
   "name": "python",
   "nbconvert_exporter": "python",
   "pygments_lexer": "ipython3",
   "version": "3.11.7"
  }
 },
 "nbformat": 4,
 "nbformat_minor": 5
}
